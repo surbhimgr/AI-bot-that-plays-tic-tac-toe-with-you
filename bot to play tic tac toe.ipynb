{
 "cells": [
  {
   "cell_type": "code",
   "execution_count": 2,
   "metadata": {},
   "outputs": [],
   "source": [
    "from easyAI import TwoPlayersGame, AI_Player, Negamax\n",
    "from easyAI.Player import Human_Player"
   ]
  },
  {
   "cell_type": "code",
   "execution_count": 3,
   "metadata": {},
   "outputs": [
    {
     "name": "stdout",
     "output_type": "stream",
     "text": [
      "\n",
      ". . .\n",
      ". . .\n",
      ". . .\n",
      "\n",
      "Player 1 what do you play ? 5\n",
      "\n",
      "Move #1: player 1 plays 5 :\n",
      "\n",
      ". . .\n",
      ". O .\n",
      ". . .\n",
      "\n",
      "Move #2: player 2 plays 1 :\n",
      "\n",
      "X . .\n",
      ". O .\n",
      ". . .\n",
      "\n",
      "Player 1 what do you play ? 9\n",
      "\n",
      "Move #3: player 1 plays 9 :\n",
      "\n",
      "X . .\n",
      ". O .\n",
      ". . O\n",
      "\n",
      "Move #4: player 2 plays 3 :\n",
      "\n",
      "X . X\n",
      ". O .\n",
      ". . O\n",
      "\n",
      "Player 1 what do you play ? 2\n",
      "\n",
      "Move #5: player 1 plays 2 :\n",
      "\n",
      "X O X\n",
      ". O .\n",
      ". . O\n",
      "\n",
      "Move #6: player 2 plays 8 :\n",
      "\n",
      "X O X\n",
      ". O .\n",
      ". X O\n",
      "\n",
      "Player 1 what do you play ? 6\n",
      "\n",
      "Move #7: player 1 plays 6 :\n",
      "\n",
      "X O X\n",
      ". O O\n",
      ". X O\n",
      "\n",
      "Move #8: player 2 plays 4 :\n",
      "\n",
      "X O X\n",
      "X O O\n",
      ". X O\n",
      "\n",
      "Player 1 what do you play ? 7\n",
      "\n",
      "Move #9: player 1 plays 7 :\n",
      "\n",
      "X O X\n",
      "X O O\n",
      "O X O\n"
     ]
    },
    {
     "data": {
      "text/plain": [
       "[(<__main__.TicTacToe_game at 0x15f0a4f96a0>, 5),\n",
       " (<__main__.TicTacToe_game at 0x15f0a4f9d60>, 1),\n",
       " (<__main__.TicTacToe_game at 0x15f0a6000d0>, 9),\n",
       " (<__main__.TicTacToe_game at 0x15f0a600250>, 3),\n",
       " (<__main__.TicTacToe_game at 0x15f0a617e80>, 2),\n",
       " (<__main__.TicTacToe_game at 0x15f0a618a30>, 8),\n",
       " (<__main__.TicTacToe_game at 0x15f0a600100>, 6),\n",
       " (<__main__.TicTacToe_game at 0x15f0a616790>, 4),\n",
       " (<__main__.TicTacToe_game at 0x15f0a618af0>, 7),\n",
       " <__main__.TicTacToe_game at 0x15f0a618130>]"
      ]
     },
     "execution_count": 3,
     "metadata": {},
     "output_type": "execute_result"
    }
   ],
   "source": [
    "class TicTacToe_game(TwoPlayersGame):\n",
    "    def __init__(self, players):\n",
    "        self.players = players\n",
    "        self.nplayer = 1\n",
    "        self.board = [0] * 9\n",
    "    \n",
    "    def possible_moves(self):\n",
    "        return [x + 1 for x, y in enumerate(self.board) if y == 0]\n",
    "\n",
    "    def make_move(self, move):\n",
    "        self.board[int(move) - 1] = self.nplayer\n",
    "    \n",
    "    def umake_move(self, move):\n",
    "        self.board[int(move) - 1] = 0\n",
    "    \n",
    "    def condition_for_lose(self):\n",
    "        possible_combinations = [[1,2,3], [4,5,6], [7,8,9],[1,4,7], [2,5,8], [3,6,9], [1,5,9], [3,5,7]]\n",
    "        return any([all([(self.board[z-1] == self.nopponent)for z in combination]) for combination in possible_combinations])\n",
    "    \n",
    "    def is_over(self):\n",
    "        return (self.possible_moves() == []) or self.condition_for_lose()\n",
    "    def show(self):\n",
    "        print('\\n'+'\\n'.join([' '.join([['.', 'O', 'X'][self.board[3*j + i]]for i in range(3)]) for j in range(3)]))\n",
    "    def scoring(self):\n",
    "        return -100 if self.condition_for_lose() else 0\n",
    "    \n",
    "if __name__ == \"__main__\":\n",
    "    algo = Negamax(7)\n",
    "TicTacToe_game([Human_Player(), AI_Player(algo)]).play()\n"
   ]
  },
  {
   "cell_type": "code",
   "execution_count": null,
   "metadata": {},
   "outputs": [],
   "source": []
  }
 ],
 "metadata": {
  "kernelspec": {
   "display_name": "Python 3",
   "language": "python",
   "name": "python3"
  },
  "language_info": {
   "codemirror_mode": {
    "name": "ipython",
    "version": 3
   },
   "file_extension": ".py",
   "mimetype": "text/x-python",
   "name": "python",
   "nbconvert_exporter": "python",
   "pygments_lexer": "ipython3",
   "version": "3.8.3"
  }
 },
 "nbformat": 4,
 "nbformat_minor": 4
}
